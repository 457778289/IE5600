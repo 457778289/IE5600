{
 "cells": [
  {
   "cell_type": "markdown",
   "metadata": {
    "slideshow": {
     "slide_type": "slide"
    }
   },
   "source": [
    "## Object-Oriented Programming (OOP) in Python"
   ]
  },
  {
   "cell_type": "markdown",
   "metadata": {
    "slideshow": {
     "slide_type": "slide"
    }
   },
   "source": [
    "## What is Object Oriented Programming (OOP)?\n",
    "\n",
    "<table>\n",
    "<tr>\n",
    "<td><img src=\"oop1.jpg\" alt=\"Drawing\" style=\"width: 900px;\"/></td>\n",
    "</tr>\n",
    "</table>\n"
   ]
  },
  {
   "cell_type": "markdown",
   "metadata": {},
   "source": [
    "<table>\n",
    "<tr>\n",
    "<td><img src=\"oop2.jpg\" alt=\"Drawing\" style=\"width: 500px;\"/></td>\n",
    "<td><img src=\"oop3a.jpg\" alt=\"Drawing\" style=\"width: 500px;\"/></td>\n",
    "</tr>\n",
    "<tr>\n",
    "<td><img src=\"oop4.jpg\" alt=\"Drawing\" style=\"width: 500px;\"/></td>\n",
    "<td><img src=\"oop5.jpg\" alt=\"Drawing\" style=\"width: 500px;\"/></td>\n",
    "</tr>\n",
    "<tr>\n",
    "<td><img src=\"oop6.jpg\" alt=\"Drawing\" style=\"width: 500px;\"/></td>\n",
    "<td><img src=\"oop7.jpg\" alt=\"Drawing\" style=\"width: 500px;\"/></td>\n",
    "</tr>\n",
    "<tr>\n",
    "<td><img src=\"oop8.jpg\" alt=\"Drawing\" style=\"width: 500px;\"/></td>\n",
    "<td><img src=\"oop9.jpg\" alt=\"Drawing\" style=\"width: 500px;\"/></td>\n",
    "</tr>\n",
    "</table>"
   ]
  },
  {
   "cell_type": "markdown",
   "metadata": {
    "slideshow": {
     "slide_type": "slide"
    }
   },
   "source": [
    "## Python  Classes and Instances (Objects)\n",
    "\n",
    "A Class is a \"blueprint\" for creating objects. Objects are instances of the class."
   ]
  },
  {
   "cell_type": "code",
   "execution_count": 1,
   "metadata": {},
   "outputs": [
    {
     "name": "stdout",
     "output_type": "stream",
     "text": [
      "<__main__.student object at 0x000001B3B1973848>\n",
      "<__main__.student object at 0x000001B3B1973888>\n",
      "Andrew Lim's email is andrew.lim@gmail.com\n",
      "Albert Lim's email is albert.lim@gmail.com\n"
     ]
    }
   ],
   "source": [
    "class student:\n",
    "    pass #placeholder\n",
    "\n",
    "a=student()\n",
    "b=student()\n",
    "a.name=\"Andrew Lim\"\n",
    "a.email=\"andrew.lim@gmail.com\"\n",
    "b.name=\"Albert Lim\"\n",
    "b.email=\"albert.lim@gmail.com\"\n",
    "\n",
    "print(a)\n",
    "print(b)\n",
    "print(\"{}'s email is {}\".format(a.name,a.email))\n",
    "print(\"{}'s email is {}\".format(b.name,b.email))\n",
    "\n"
   ]
  },
  {
   "cell_type": "code",
   "execution_count": 20,
   "metadata": {},
   "outputs": [
    {
     "name": "stdout",
     "output_type": "stream",
     "text": [
      "Andrew Lim's email is andrew.lim@gmail.com\n",
      "Albert Lim's email is albert.lim@gmail.com\n"
     ]
    }
   ],
   "source": [
    "class student1:\n",
    "    def __init__(self,name,email):\n",
    "        self.name=name\n",
    "        self.email=email\n",
    "    \n",
    "a=student1(\"Andrew Lim\",\"andrew.lim@gmail.com\")\n",
    "b=student1(\"Albert Lim\",\"albert.lim@gmail.com\")\n",
    "print(\"{}'s email is {}\".format(a.name,a.email))\n",
    "print(\"{}'s email is {}\".format(b.name,b.email))\n"
   ]
  },
  {
   "cell_type": "code",
   "execution_count": 2,
   "metadata": {},
   "outputs": [],
   "source": [
    "class student2:\n",
    "    def __init__():\n",
    "        pass"
   ]
  },
  {
   "cell_type": "markdown",
   "metadata": {},
   "source": [
    "### Methods in a class will always have a variable self, refering the object instance itself.\n"
   ]
  },
  {
   "cell_type": "code",
   "execution_count": 3,
   "metadata": {},
   "outputs": [
    {
     "ename": "TypeError",
     "evalue": "__init__() takes 0 positional arguments but 1 was given",
     "output_type": "error",
     "traceback": [
      "\u001b[1;31m---------------------------------------------------------------------------\u001b[0m",
      "\u001b[1;31mTypeError\u001b[0m                                 Traceback (most recent call last)",
      "\u001b[1;32m<ipython-input-3-2566c9001ac4>\u001b[0m in \u001b[0;36m<module>\u001b[1;34m\u001b[0m\n\u001b[1;32m----> 1\u001b[1;33m \u001b[0ma\u001b[0m\u001b[1;33m=\u001b[0m\u001b[0mstudent2\u001b[0m\u001b[1;33m(\u001b[0m\u001b[1;33m)\u001b[0m\u001b[1;33m\u001b[0m\u001b[1;33m\u001b[0m\u001b[0m\n\u001b[0m",
      "\u001b[1;31mTypeError\u001b[0m: __init__() takes 0 positional arguments but 1 was given"
     ]
    }
   ],
   "source": [
    "a=student2()"
   ]
  },
  {
   "cell_type": "markdown",
   "metadata": {},
   "source": [
    "### The code should work fine now"
   ]
  },
  {
   "cell_type": "code",
   "execution_count": 33,
   "metadata": {},
   "outputs": [],
   "source": [
    "class student3:\n",
    "    def __init__(self):\n",
    "        pass\n",
    "\n",
    "a=student3()"
   ]
  },
  {
   "cell_type": "code",
   "execution_count": 44,
   "metadata": {},
   "outputs": [
    {
     "ename": "TypeError",
     "evalue": "myprint() takes 0 positional arguments but 1 was given",
     "output_type": "error",
     "traceback": [
      "\u001b[1;31m---------------------------------------------------------------------------\u001b[0m",
      "\u001b[1;31mTypeError\u001b[0m                                 Traceback (most recent call last)",
      "\u001b[1;32m<ipython-input-44-21bddb24d5f6>\u001b[0m in \u001b[0;36m<module>\u001b[1;34m\u001b[0m\n\u001b[0;32m      6\u001b[0m \u001b[1;33m\u001b[0m\u001b[0m\n\u001b[0;32m      7\u001b[0m \u001b[0ma\u001b[0m\u001b[1;33m=\u001b[0m\u001b[0mstudent4\u001b[0m\u001b[1;33m(\u001b[0m\u001b[1;33m)\u001b[0m\u001b[1;33m\u001b[0m\u001b[1;33m\u001b[0m\u001b[0m\n\u001b[1;32m----> 8\u001b[1;33m \u001b[0ma\u001b[0m\u001b[1;33m.\u001b[0m\u001b[0mmyprint\u001b[0m\u001b[1;33m(\u001b[0m\u001b[1;33m)\u001b[0m\u001b[1;33m\u001b[0m\u001b[1;33m\u001b[0m\u001b[0m\n\u001b[0m",
      "\u001b[1;31mTypeError\u001b[0m: myprint() takes 0 positional arguments but 1 was given"
     ]
    }
   ],
   "source": [
    "class student4:\n",
    "    def __init__(self):\n",
    "        pass\n",
    "    def myprint():\n",
    "        print(\"id\",id(self))\n",
    "\n",
    "a=student4()\n",
    "a.myprint()"
   ]
  },
  {
   "cell_type": "markdown",
   "metadata": {},
   "source": [
    "## Abstraction thru the help of attributes and methods"
   ]
  },
  {
   "cell_type": "code",
   "execution_count": 38,
   "metadata": {},
   "outputs": [
    {
     "name": "stdout",
     "output_type": "stream",
     "text": [
      "Andrew Lim's email is andrew.lim@gmail.com\n",
      "Albert Lim's email is albert.lim@gmail.com\n"
     ]
    }
   ],
   "source": [
    "class student5:\n",
    "    def __init__(self,name,email):\n",
    "        self.name=name\n",
    "        self.email=email\n",
    "    def myprint(self):\n",
    "        print(\"{}'s email is {}\".format(self.name,self.email))\n",
    "    \n",
    "a=student5(\"Andrew Lim\",\"andrew.lim@gmail.com\")\n",
    "b=student5(\"Albert Lim\",\"albert.lim@gmail.com\")\n",
    "a.myprint()\n",
    "b.myprint()\n"
   ]
  },
  {
   "cell_type": "code",
   "execution_count": 43,
   "metadata": {},
   "outputs": [
    {
     "name": "stdout",
     "output_type": "stream",
     "text": [
      "Andrew Lim's email is andrew.lim@gmail.com\n",
      "Albert Lim's email is albert.lim@gmail.com\n",
      "Andrew Lim's email is andrew.lim@gmail.com\n"
     ]
    }
   ],
   "source": [
    "class student6:\n",
    "    def __init__(self,name,email):\n",
    "        self.name=name\n",
    "        self.email=email\n",
    "    def myprint(self):\n",
    "        print(\"{}'s email is {}\".format(self.name,self.email))\n",
    "    \n",
    "a=student6(\"Andrew Lim\",\"andrew.lim@gmail.com\")\n",
    "b=student6(\"Albert Lim\",\"albert.lim@gmail.com\")\n",
    "a.myprint()\n",
    "b.myprint()\n",
    "#class the method directly via the class name\n",
    "student6.myprint(a)\n"
   ]
  },
  {
   "cell_type": "markdown",
   "metadata": {
    "slideshow": {
     "slide_type": "subslide"
    }
   },
   "source": [
    "## Encapsulation\n",
    "\n",
    "### Curious case about class and instance attributes"
   ]
  },
  {
   "cell_type": "code",
   "execution_count": 6,
   "metadata": {},
   "outputs": [
    {
     "data": {
      "text/plain": [
       "['__class__',\n",
       " '__delattr__',\n",
       " '__dict__',\n",
       " '__dir__',\n",
       " '__doc__',\n",
       " '__eq__',\n",
       " '__format__',\n",
       " '__ge__',\n",
       " '__getattribute__',\n",
       " '__gt__',\n",
       " '__hash__',\n",
       " '__init__',\n",
       " '__init_subclass__',\n",
       " '__le__',\n",
       " '__lt__',\n",
       " '__module__',\n",
       " '__ne__',\n",
       " '__new__',\n",
       " '__reduce__',\n",
       " '__reduce_ex__',\n",
       " '__repr__',\n",
       " '__setattr__',\n",
       " '__sizeof__',\n",
       " '__str__',\n",
       " '__subclasshook__',\n",
       " '__weakref__',\n",
       " '_c__x',\n",
       " 'x']"
      ]
     },
     "execution_count": 6,
     "metadata": {},
     "output_type": "execute_result"
    }
   ],
   "source": [
    "class c:\n",
    "    x=10\n",
    "    __x = 100\n",
    "\n",
    "dir(c)"
   ]
  },
  {
   "cell_type": "markdown",
   "metadata": {},
   "source": [
    "## Key Observations\n",
    "\n",
    "c is the class\n",
    "\n",
    "a, b are instances of the class also known as objects\n",
    "\n",
    "if an attribute of an object is unassigned, it will refer to the value of the same attribute in the class\n",
    "\n",
    "See the example below"
   ]
  },
  {
   "cell_type": "code",
   "execution_count": 7,
   "metadata": {},
   "outputs": [
    {
     "name": "stdout",
     "output_type": "stream",
     "text": [
      "10 10 10\n",
      "11 11 11\n",
      "12 13 13\n",
      "13 13 13\n",
      "999 999 999\n"
     ]
    }
   ],
   "source": [
    "a=c()                      #Object creation, attribute x is not initialized in a\n",
    "b=c()                      #Object creation, attribute x is not initialized in b\n",
    "print(a.x, b.x, c.x)\n",
    "c.x=11                     #in class c, attribute is set to 11\n",
    "print(a.x, b.x, c.x)       #if attributes not assigned, refer to the values in class c\n",
    "a.x=12                     #once assigned, future change of the same attribute does not affect the object value anymore\n",
    "c.x=13                     #class attribute is changed to 13\n",
    "print(a.x, b.x, c.x) \n",
    "del a.x                    #del a.x, a.x becomes unassigned. \n",
    "print(a.x, b.x, c.x)       #refer to the value of class\n",
    "c.x = 999\n",
    "print(a.x, b.x, c.x)"
   ]
  },
  {
   "cell_type": "code",
   "execution_count": 3,
   "metadata": {},
   "outputs": [
    {
     "name": "stdout",
     "output_type": "stream",
     "text": [
      "100\n"
     ]
    }
   ],
   "source": [
    "print(c._c__x)\n",
    "#print(c.__x)"
   ]
  },
  {
   "cell_type": "code",
   "execution_count": 4,
   "metadata": {},
   "outputs": [
    {
     "name": "stdout",
     "output_type": "stream",
     "text": [
      "['__class__', '__delattr__', '__dict__', '__dir__', '__doc__', '__eq__', '__format__', '__ge__', '__getattribute__', '__gt__', '__hash__', '__init__', '__init_subclass__', '__le__', '__lt__', '__module__', '__ne__', '__new__', '__reduce__', '__reduce_ex__', '__repr__', '__setattr__', '__sizeof__', '__str__', '__subclasshook__', '__weakref__', '_c__x', 'x']\n",
      "100\n"
     ]
    }
   ],
   "source": [
    "print(dir(a))\n",
    "print(a._c__x)\n",
    "#print(a.__x)"
   ]
  },
  {
   "cell_type": "code",
   "execution_count": 5,
   "metadata": {},
   "outputs": [
    {
     "name": "stdout",
     "output_type": "stream",
     "text": [
      "a: -999\n",
      "b: 100\n",
      "b: -1000\n",
      "a: -999\n",
      "a: -1000\n"
     ]
    }
   ],
   "source": [
    "a._c__x = -999\n",
    "print(\"a:\", a._c__x)\n",
    "print(\"b:\", b._c__x)\n",
    "c._c__x = -1000\n",
    "print(\"b:\", b._c__x)\n",
    "print(\"a:\", a._c__x)\n",
    "del a._c__x\n",
    "print(\"a:\", a._c__x)"
   ]
  },
  {
   "cell_type": "code",
   "execution_count": 71,
   "metadata": {},
   "outputs": [
    {
     "name": "stdout",
     "output_type": "stream",
     "text": [
      "['__class__', '__delattr__', '__dict__', '__dir__', '__doc__', '__eq__', '__format__', '__ge__', '__getattribute__', '__gt__', '__hash__', '__init__', '__init_subclass__', '__le__', '__lt__', '__module__', '__ne__', '__new__', '__reduce__', '__reduce_ex__', '__repr__', '__setattr__', '__sizeof__', '__str__', '__subclasshook__', '__weakref__', '_univstudent__email', '_univstudent__myprint', '_univstudent__name', '_univstudent__status', 'myprint', 'stipend']\n",
      "['__class__', '__delattr__', '__dict__', '__dir__', '__doc__', '__eq__', '__format__', '__ge__', '__getattribute__', '__gt__', '__hash__', '__init__', '__init_subclass__', '__le__', '__lt__', '__module__', '__ne__', '__new__', '__reduce__', '__reduce_ex__', '__repr__', '__setattr__', '__sizeof__', '__str__', '__subclasshook__', '__weakref__', '_univstudent__myprint', '_univstudent__status', 'myprint', 'stipend']\n",
      "1500\n",
      "self-financed\n",
      "Andrew's email is andrew.lim@nus.edu.sg\n",
      "Albert's email is albert.lim@nus.edu.sg\n",
      "Andrew's email is andrew.lim@nus.edu.sg\n"
     ]
    }
   ],
   "source": [
    "class univstudent:\n",
    "    __status   = \"self-financed\"\n",
    "    stipend  = 1500\n",
    "    def __init__(self,name,email):\n",
    "        self.__name=name\n",
    "        self.__email=email\n",
    "    def myprint(self):\n",
    "        print(\"{}'s email is {}\".format(self.__name,self.__email))\n",
    "    def __myprint(self):\n",
    "        print(\"{}'s email is {}\".format(self.__name,self.__email))\n",
    "\n",
    "a=univstudent(\"Andrew\",\"andrew.lim@nus.edu.sg\")\n",
    "b=univstudent(\"Albert\",\"albert.lim@nus.edu.sg\")\n",
    "print(dir(a))\n",
    "print(dir(univstudent))\n",
    "print(a.stipend)\n",
    "#print(a.__status)  #cannot access \"private\" attribute\n",
    "#a.__myprint()\n",
    "print(a._univstudent__status)\n",
    "a._univstudent__myprint()\n",
    "b.myprint()\n",
    "univstudent.myprint(a)"
   ]
  },
  {
   "cell_type": "markdown",
   "metadata": {},
   "source": [
    "## Inheritance and Polymorphism\n",
    "\n"
   ]
  },
  {
   "cell_type": "code",
   "execution_count": 22,
   "metadata": {},
   "outputs": [],
   "source": [
    "class univstudent1:\n",
    "    def __init__(self,name,email):\n",
    "        self.__name=name\n",
    "        self.__email=email\n",
    "    def myprint(self):\n",
    "        print(\"{}'s email is {}\".format(self.__name,self.__email))\n",
    "    def mya(self):\n",
    "        print(\"@class univstudent1\")\n",
    "    def myb(self):\n",
    "        print(\"@class univstudent1\")"
   ]
  },
  {
   "cell_type": "code",
   "execution_count": 37,
   "metadata": {},
   "outputs": [
    {
     "name": "stdout",
     "output_type": "stream",
     "text": [
      "Andrew's email is andrew.lim@gmail.com\n",
      "Albert's email is albert.lim@gmail.com\n",
      "@class ugstudent\n",
      "@class univstudent1\n"
     ]
    }
   ],
   "source": [
    "class ugstudent(univstudent1):\n",
    "    __status   = \"self-financed\"\n",
    "    __stipend  = 0\n",
    "    def __init__(self,name,email,status=\"self-finance\",stipend=0):\n",
    "        super().__init__(name,email)\n",
    "        self.__status=status\n",
    "        self.__stipend=stipend\n",
    "    def mya(self):\n",
    "        print(\"@class ugstudent\")\n",
    "\n",
    "a=ugstudent(\"Andrew\",\"andrew.lim@gmail.com\")\n",
    "b=ugstudent(\"Albert\",\"albert.lim@gmail.com\",\"scholarship\",1000)\n",
    "\n",
    "a.myprint()\n",
    "b.myprint()\n",
    "a.mya()      \n",
    "a.myb() "
   ]
  },
  {
   "cell_type": "markdown",
   "metadata": {},
   "source": [
    "## Polymorphism\n",
    "\n",
    "The respective objects knows to execute its own methods\n"
   ]
  },
  {
   "cell_type": "code",
   "execution_count": 9,
   "metadata": {},
   "outputs": [
    {
     "name": "stdout",
     "output_type": "stream",
     "text": [
      "My name is Tigger. I am a tiger. I am 6 years old.\n",
      "My name is Mia. I am a dog. I am 5.5 years old.\n"
     ]
    }
   ],
   "source": [
    "from playsound import playsound #import function to play mp3\n",
    "\n",
    "class animal:\n",
    "    def __init__(self, name, age):\n",
    "        self.name = name\n",
    "        self.age = age\n",
    "\n",
    "class tiger(animal):\n",
    "    def __init__(self, name, age):\n",
    "        super().__init__(name, age)\n",
    "    def intro(self):\n",
    "        print(f\"My name is {self.name}. I am a tiger. I am {self.age} years old.\")\n",
    "    def sound(self):\n",
    "        playsound('tiger.mp3')\n",
    "\n",
    "\n",
    "class dog(animal):\n",
    "    def __init__(self, name, age):\n",
    "        super().__init__(name, age)\n",
    "    def intro(self):\n",
    "        print(f\"My name is {self.name}. I am a dog. I am {self.age} years old.\")\n",
    "    def sound(self):\n",
    "        playsound('bark.mp3')\n",
    "\n",
    "\n",
    "tiger1 = tiger(\"Tigger\",6)\n",
    "dog1 = dog(\"Mia\", 5.5)\n",
    "\n",
    "\n",
    "for animal in (tiger1, dog1):\n",
    "    animal.intro()\n",
    "    animal.sound()"
   ]
  }
 ],
 "metadata": {
  "kernelspec": {
   "display_name": "Python 3",
   "language": "python",
   "name": "python3"
  },
  "language_info": {
   "codemirror_mode": {
    "name": "ipython",
    "version": 3
   },
   "file_extension": ".py",
   "mimetype": "text/x-python",
   "name": "python",
   "nbconvert_exporter": "python",
   "pygments_lexer": "ipython3",
   "version": "3.7.4"
  }
 },
 "nbformat": 4,
 "nbformat_minor": 4
}
