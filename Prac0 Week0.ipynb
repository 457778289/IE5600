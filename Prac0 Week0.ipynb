{
 "cells": [
  {
   "cell_type": "markdown",
   "metadata": {},
   "source": [
    "# Week 0: Practice0 Seven Problems"
   ]
  },
  {
   "cell_type": "markdown",
   "metadata": {},
   "source": [
    "## Question P4"
   ]
  },
  {
   "cell_type": "code",
   "execution_count": null,
   "metadata": {},
   "outputs": [],
   "source": [
    "print(\"Hello World\")\n",
    "print(\"H\\\n",
    "e\\\n",
    "l\\\n",
    "l\\\n",
    "o\\\n",
    " \\\n",
    "World\")"
   ]
  },
  {
   "cell_type": "code",
   "execution_count": null,
   "metadata": {},
   "outputs": [],
   "source": []
  },
  {
   "cell_type": "markdown",
   "metadata": {},
   "source": [
    "## Question P5"
   ]
  },
  {
   "cell_type": "code",
   "execution_count": null,
   "metadata": {},
   "outputs": [],
   "source": [
    "print(\"Hello,\")\n",
    "print(\" Python!\")\n"
   ]
  },
  {
   "cell_type": "code",
   "execution_count": null,
   "metadata": {},
   "outputs": [],
   "source": [
    "print(\"Hello,\\n Python!\")"
   ]
  },
  {
   "cell_type": "markdown",
   "metadata": {},
   "source": [
    "## Question P6"
   ]
  },
  {
   "cell_type": "code",
   "execution_count": null,
   "metadata": {},
   "outputs": [],
   "source": [
    "A='     *  '\n",
    "B='******  '\n",
    "C='*    *  '\n",
    "D=print(A,B,B,B,'\\n'+A,C,C,A,'\\n'+A,C,C,A,'\\n'+A,C,C,B,'\\n'+A,C,C,A,'\\n'+A,C,C,A,'\\n'+A,B,B,B)"
   ]
  },
  {
   "cell_type": "code",
   "execution_count": null,
   "metadata": {},
   "outputs": [],
   "source": [
    "print(\"      *  ******  ******  ******\\n      *  *    *  *    *       *\\n      *  *    *  *    *       *\\n      *  *    *  *    *  ******\\n      *  *    *  *    *       *\\n      *  *    *  *    *       *\\n      *  ******  ******  ******\")"
   ]
  },
  {
   "cell_type": "code",
   "execution_count": null,
   "metadata": {},
   "outputs": [],
   "source": [
    "print (\"*  ******  ******  ******\\n\n",
    "        *  *    *  *    *       *\\n\n",
    "        *  *    *  *    *       *\\n\n",
    "        *  *    *  *    *  ******\\n\n",
    "        *  *    *  *    *       *\\n\n",
    "        *  *    *  *    *       *\\n\n",
    "        *  ******  ******  ******\")"
   ]
  },
  {
   "cell_type": "code",
   "execution_count": 1,
   "metadata": {},
   "outputs": [
    {
     "name": "stdout",
     "output_type": "stream",
     "text": [
      "     *  ******  ******  ******\n",
      "     *  *    *  *    *       *\n",
      "     *  *    *  *    *       *\n",
      "     *  *    *  *    *  ******\n",
      "     *  *    *  *    *       *\n",
      "     *  *    *  *    *       *\n",
      "     *  ******  ******  ******\n"
     ]
    }
   ],
   "source": [
    "print (\"\\\n",
    "     *  ******  ******  ******\\n\\\n",
    "     *  *    *  *    *       *\\n\\\n",
    "     *  *    *  *    *       *\\n\\\n",
    "     *  *    *  *    *  ******\\n\\\n",
    "     *  *    *  *    *       *\\n\\\n",
    "     *  *    *  *    *       *\\n\\\n",
    "     *  ******  ******  ******\")"
   ]
  },
  {
   "cell_type": "code",
   "execution_count": null,
   "metadata": {},
   "outputs": [],
   "source": [
    "A='     *  '\n",
    "B='******  '\n",
    "C='*    *  '\n",
    "D=print(A,B,B,B,'\\n'+A,C,C,A,'\\n'+A,C,C,A,'\\n'+A,C,C,B,'\\n'+A,C,C,A,'\\n'+A,C,C,A,'\\n'+A,B,B,B)"
   ]
  },
  {
   "cell_type": "code",
   "execution_count": null,
   "metadata": {},
   "outputs": [],
   "source": [
    "\"\"\"\n",
    "Created on Thu Aug  6 14:55:30 2020\n",
    "\n",
    "@author: rayen\n",
    "\"\"\"\n",
    "\n",
    "A = \"     *  \"\n",
    "B = \"******  \"\n",
    "C = \"*    *  \"\n",
    "\n",
    "print(A,B,B,B)\n",
    "print(A,C,C,A)\n",
    "print(A,C,C,A)\n",
    "print(A,C,C,B)\n",
    "print(A,C,C,A)\n",
    "print(A,C,C,A)\n",
    "print(A,B,B,B)"
   ]
  },
  {
   "cell_type": "markdown",
   "metadata": {},
   "source": [
    "## Question P7"
   ]
  },
  {
   "cell_type": "code",
   "execution_count": null,
   "metadata": {},
   "outputs": [],
   "source": [
    "print(input())"
   ]
  },
  {
   "cell_type": "markdown",
   "metadata": {},
   "source": [
    "## Question P8"
   ]
  },
  {
   "cell_type": "code",
   "execution_count": null,
   "metadata": {},
   "outputs": [],
   "source": [
    "def p08():\n",
    "    a = input()\n",
    "    b = input()\n",
    "    print (b)\n",
    "    print(a)\n",
    "\n",
    "p08()"
   ]
  },
  {
   "cell_type": "markdown",
   "metadata": {},
   "source": [
    "## Question P9"
   ]
  },
  {
   "cell_type": "code",
   "execution_count": null,
   "metadata": {},
   "outputs": [],
   "source": [
    "def p09():\n",
    "    Alice_current = input()\n",
    "    Bob_current = input()\n",
    "    Charlotte_current = input()\n",
    "\n",
    "    #print(\"#Alice and Bob swapped their paper.\")\n",
    "    Alice_next = Bob_current\n",
    "    Bob_next = Alice_current\n",
    "    Charlotte_next=Charlotte_current\n",
    "    Alice_current=Alice_next\n",
    "    Bob_current=Bob_next\n",
    "    Charlotte_current=Charlotte_next\n",
    "\n",
    "    #print(\"#Alice and Charlotte swapped their paper.\")\n",
    "    Alice_next = Charlotte_current\n",
    "    Charlotte_next = Alice_current\n",
    "    Alice_current=Alice_next\n",
    "    Bob_current=Bob_next\n",
    "    Charlotte_current=Charlotte_next\n",
    "\n",
    "    #print(\"#Bob and Alice swapped their paper.\")\n",
    "    Bob_next = Alice_current\n",
    "    Alice_next = Bob_current\n",
    "    Alice_current=Alice_next\n",
    "    Bob_current=Bob_next\n",
    "    Charlotte_current=Charlotte_next\n",
    "\n",
    "    #print(\"#Bob and Charlotte swapped their paper.\")\n",
    "    Bob_next = Charlotte_current\n",
    "    Charlotte_next = Bob_current\n",
    "    Alice_current=Alice_next\n",
    "    Bob_current=Bob_next\n",
    "    Charlotte_current=Charlotte_next\n",
    "\n",
    "    #print(\"#Alice erased the sentence on her paper.\")\n",
    "    Alice_next=\"\"\n",
    "    Alice_current=Alice_next\n",
    "    Bob_current=Bob_next\n",
    "    Charlotte_current=Charlotte_next\n",
    "\n",
    "    #print(\"#Alice copied the sentence on Charlotte’s paper to her paper.\")\n",
    "    Alice_next=Charlotte_current\n",
    "    Alice_current=Alice_next\n",
    "    Bob_current=Bob_next\n",
    "    Charlotte_current=Charlotte_next\n",
    "\n",
    "    #print(\"#Alice and Bob swapped their paper.\")\n",
    "    Alice_next = Bob_current\n",
    "    Bob_next = Alice_current\n",
    "    Alice_current=Alice_next\n",
    "    Bob_current=Bob_next\n",
    "    Charlotte_current=Charlotte_next\n",
    "\n",
    "    #print(\"#Charlotte and Bob swapped their paper.\")\n",
    "    Charlotte_next = Bob_current\n",
    "    Bob_next = Charlotte_current\n",
    "    Alice_current=Alice_next\n",
    "    Bob_current=Bob_next\n",
    "    Charlotte_current=Charlotte_next\n",
    "\n",
    "    #print(\"#Charlotte and Alice swapped their paper.\")\n",
    "    Charlotte_next = Alice_current\n",
    "    Alice_next = Charlotte_current\n",
    "    Alice_current=Alice_next\n",
    "    Bob_current=Bob_next\n",
    "    Charlotte_current=Charlotte_next\n",
    "\n",
    "    print (Alice_current)\n",
    "    print(Bob_current)\n",
    "    print(Charlotte_current)\n",
    "p09()"
   ]
  },
  {
   "cell_type": "code",
   "execution_count": null,
   "metadata": {},
   "outputs": [],
   "source": [
    "a=input()\n",
    "b=input()\n",
    "c=input()\n",
    "a,b=b,a\n",
    "a,c=c,a\n",
    "b,a=a,b\n",
    "b,c=c,b\n",
    "a=c\n",
    "a,b=b,a\n",
    "c,b=b,c\n",
    "c,a=a,c\n",
    "print(a)\n",
    "print(b)\n",
    "print(c)\n"
   ]
  },
  {
   "cell_type": "markdown",
   "metadata": {},
   "source": [
    "## Question P10"
   ]
  },
  {
   "cell_type": "code",
   "execution_count": null,
   "metadata": {},
   "outputs": [],
   "source": [
    "A = int(input())\n",
    "B = int(input())\n",
    "print(str(A)+str(B))\n",
    "print(A+B)"
   ]
  },
  {
   "cell_type": "code",
   "execution_count": null,
   "metadata": {},
   "outputs": [],
   "source": [
    "A = input()\n",
    "B = input()\n",
    "print(A+B)\n",
    "print(int(A)+int(B))"
   ]
  },
  {
   "cell_type": "code",
   "execution_count": null,
   "metadata": {},
   "outputs": [],
   "source": []
  }
 ],
 "metadata": {
  "kernelspec": {
   "display_name": "Python 3",
   "language": "python",
   "name": "python3"
  },
  "language_info": {
   "codemirror_mode": {
    "name": "ipython",
    "version": 3
   },
   "file_extension": ".py",
   "mimetype": "text/x-python",
   "name": "python",
   "nbconvert_exporter": "python",
   "pygments_lexer": "ipython3",
   "version": "3.7.4"
  }
 },
 "nbformat": 4,
 "nbformat_minor": 4
}
