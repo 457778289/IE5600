{
 "cells": [
  {
   "cell_type": "markdown",
   "metadata": {},
   "source": [
    "# Lecture 2 Notebook"
   ]
  },
  {
   "cell_type": "markdown",
   "metadata": {},
   "source": [
    "## Generating random data"
   ]
  },
  {
   "cell_type": "code",
   "execution_count": 1,
   "metadata": {},
   "outputs": [
    {
     "name": "stdout",
     "output_type": "stream",
     "text": [
      "[41849, 18674, 53542, 27737, 26391, 4763, 16791, 40715, 250, 22575, 35769, 46506, 33118, 62001, 449, 30491, 14415, 10204, 31458, 3518, 26669, 46336, 42345, 13182, 26237, 40683, 14761, 16509, 8190, 32375, 836, 19800, 28165, 34872, 47286, 8716, 32268, 27458, 25616, 50344, 44971, 18220, 6232, 2116, 63406, 10320, 63205, 29186, 31891, 18590, 31476, 27900, 24353, 31808, 46369, 18912, 33805, 34781, 9485, 24293, 37782, 8806, 38288, 13995, 39055, 47460, 8433, 19234, 12578, 19987, 12974, 56759, 46472, 12451, 31596, 2481, 8173, 6354, 61571, 49131, 59307, 41222, 20678, 36232, 4409, 6502, 61414, 48629, 55204, 59296, 48332, 32989, 38045, 3472, 7412, 51332, 26176, 63602, 64535, 24554]\n"
     ]
    }
   ],
   "source": [
    "import random\n",
    "data = [random.randint(1,65535) for _ in range(100)]\n",
    "print(data)"
   ]
  },
  {
   "cell_type": "markdown",
   "metadata": {},
   "source": [
    "## functools - wraps\n",
    "\n",
    "functools is a standard Python module for higher-order functions (functions that act on or return other functions). wraps() is a decorator that is applied to the wrapper function of a decorator.\n"
   ]
  },
  {
   "cell_type": "code",
   "execution_count": 2,
   "metadata": {},
   "outputs": [],
   "source": [
    "import time\n",
    "from functools import wraps\n",
    "\n",
    "\n",
    "def timer(algo):\n",
    "    @wraps(algo)\n",
    "    def mytest(data,log = False, output = False):\n",
    "        if log:\n",
    "            print(\"Data before %s :%s\"%(algo.__name__,str(data)))\n",
    "        time_stdatart=time.time()\n",
    "        res = algo(data)\n",
    "        t = time.time() - time_stdatart\n",
    "        if log:\n",
    "            print(\"Data after %s :%s\"%(algo.__name__,str(data)))\n",
    "            print(\"Runnint time %s s\"%(str(t)))\n",
    "        return [algo.__name__,t,res] if output else [algo.__name__,t]\n",
    "    return mytest\n",
    "\n"
   ]
  },
  {
   "cell_type": "markdown",
   "metadata": {},
   "source": [
    "## SelectionSort"
   ]
  },
  {
   "cell_type": "markdown",
   "metadata": {},
   "source": [
    "    # Python program for implementation of Selection Sort\n",
    "\n",
    "    # Traverse through all array elements \n",
    "        # Find the minimum element in remaining \n",
    "        # unsorted array \n",
    "            \n",
    "        # Swap the found minimum element with \n",
    "        # the first element         \n",
    "        \n",
    "    #Number of steps:\n",
    "        #min_idx - n steps\n",
    "         \n",
    "        #in the j loops\n",
    "        # at most 2(n-1) + 2(n-2) + ... + 2(1) \n",
    "        # = 2((n-1)+1)*(n-1))/2 \n",
    "        # = n(n-1)\n",
    "        # = n^2 + n\n",
    "        \n",
    "        #swap\n",
    "        #2n\n",
    "        \n",
    "        #Total = n + n^2 + n +2n \n",
    "        #      = 4n + n^2\n",
    "        \n",
    "        \n",
    " "
   ]
  },
  {
   "cell_type": "code",
   "execution_count": 3,
   "metadata": {},
   "outputs": [
    {
     "name": "stdout",
     "output_type": "stream",
     "text": [
      "Data before SelectionSort :[4975, 25276, 29995, 43339, 1299, 61362, 59375, 717, 15341, 64309, 24981, 10361, 2622, 31269, 23373, 17421, 58943, 13120, 15791, 58409, 42371, 46837, 27064, 38255, 10297, 46353, 26452, 50626, 16467, 27000]\n",
      "Data after SelectionSort :[717, 1299, 2622, 4975, 10297, 10361, 13120, 15341, 15791, 16467, 17421, 23373, 24981, 25276, 26452, 27000, 27064, 29995, 31269, 38255, 42371, 43339, 46353, 46837, 50626, 58409, 58943, 59375, 61362, 64309]\n",
      "Runnint time 0.0 s\n"
     ]
    }
   ],
   "source": [
    "@timer\n",
    "def SelectionSort(arr):\n",
    "\n",
    "    # Python program for implementation of Selection \n",
    "    # Sort \n",
    "\n",
    "\n",
    "    # Traverse through all array elements \n",
    "    for i in range(len(arr)): \n",
    "        \n",
    "        # Find the minimum element in remaining \n",
    "        # unsorted array \n",
    "        min_idx = i \n",
    "        for j in range(i+1, len(arr)): \n",
    "            if arr[min_idx] > arr[j]: \n",
    "                min_idx = j \n",
    "            \n",
    "        # Swap the found minimum element with \n",
    "        # the first element         \n",
    "        arr[i], arr[min_idx] = arr[min_idx], arr[i] \n",
    "\n",
    "data = [random.randint(1,65535) for _ in range(30)]\n",
    "#Normal\n",
    "#print(data)\n",
    "#SelectionSort(data)\n",
    "#print(data)\n",
    "\n",
    "#Using Wrapper\n",
    "#SelectionSort(data,log=True)\n",
    "\n",
    "#Functools \n",
    "algos=[SelectionSort]\n",
    "for algo in algos:\n",
    "   algo(data, log=True)\n"
   ]
  },
  {
   "cell_type": "markdown",
   "metadata": {},
   "source": [
    "## Timing the function"
   ]
  },
  {
   "cell_type": "code",
   "execution_count": 4,
   "metadata": {},
   "outputs": [
    {
     "name": "stdout",
     "output_type": "stream",
     "text": [
      "(Size=100,Time=0.0)(Size=100,Time=0.0000)\n",
      "(Size=1000,Time=0.0009963512420654297)(Size=1000,Time=0.0010)\n",
      "(Size=2000,Time=0.0009968280792236328)(Size=2000,Time=0.0010)\n",
      "(Size=3000,Time=0.0009930133819580078)(Size=3000,Time=0.0010)\n",
      "(Size=4000,Time=0.001992940902709961)(Size=4000,Time=0.0020)\n",
      "(Size=5000,Time=0.002994060516357422)(Size=5000,Time=0.0030)\n",
      "(Size=6000,Time=0.0020046234130859375)(Size=6000,Time=0.0020)\n",
      "(Size=7000,Time=0.001993894577026367)(Size=7000,Time=0.0020)\n",
      "(Size=8000,Time=0.004985809326171875)(Size=8000,Time=0.0050)\n",
      "(Size=9000,Time=0.002992868423461914)(Size=9000,Time=0.0030)\n",
      "(Size=10000,Time=0.0029916763305664062)(Size=10000,Time=0.0030)\n",
      "(Size=100000,Time=0.10372519493103027)(Size=100000,Time=0.1037)\n",
      "(Size=200000,Time=0.14760684967041016)(Size=200000,Time=0.1476)\n",
      "(Size=500000,Time=0.8221430778503418)(Size=500000,Time=0.8221)\n",
      "(Size=1000000,Time=1.1311228275299072)(Size=1000000,Time=1.1311)\n"
     ]
    }
   ],
   "source": [
    "for i in [100,1000,2000,3000,4000,5000,6000,7000,8000,9000,10000,100000,200000,500000,1000000]:\n",
    "    data = [random.randint(1,65535) for _ in range(i)]\n",
    "    # Remember to import time\n",
    "    s=time.time()\n",
    "    #SelectionSort(data)\n",
    "    data.sort()\n",
    "    t=time.time()-s\n",
    "    print(\"(Size=\"+str(i)+\",Time=\"+str(t)+\")\", end='')\n",
    "    print(\"(Size={},Time={:.4f})\".format(i,t))\n",
    " "
   ]
  },
  {
   "cell_type": "markdown",
   "metadata": {},
   "source": [
    "## InsertionSort "
   ]
  },
  {
   "cell_type": "code",
   "execution_count": 5,
   "metadata": {},
   "outputs": [],
   "source": [
    "@timer\n",
    "def InsertionSort(arr): \n",
    "  \n",
    "    # Traverse through 1 to len(arr) \n",
    "    for i in range(1, len(arr)): \n",
    "  \n",
    "        key = arr[i] \n",
    "  \n",
    "        # Move elements of arr[0..i-1], that are \n",
    "        # greater than key, to one position ahead \n",
    "        # of their current position \n",
    "        j = i-1\n",
    "        while j >=0 and key < arr[j] : \n",
    "                arr[j+1] = arr[j] \n",
    "                j -= 1\n",
    "        arr[j+1] = key "
   ]
  },
  {
   "cell_type": "markdown",
   "metadata": {},
   "source": [
    "## Comparing SelectionSort and InsertionSort"
   ]
  },
  {
   "cell_type": "code",
   "execution_count": 6,
   "metadata": {},
   "outputs": [
    {
     "name": "stdout",
     "output_type": "stream",
     "text": [
      "100 ['SelectionSort', 0.000997304916381836]\n",
      "100 ['InsertionSort', 0.0009870529174804688]\n",
      "1000 ['SelectionSort', 0.10471677780151367]\n",
      "1000 ['InsertionSort', 0.2024226188659668]\n",
      "10000 ['SelectionSort', 10.228183507919312]\n",
      "10000 ['InsertionSort', 10.81055736541748]\n"
     ]
    }
   ],
   "source": [
    "for i in [100,1000,10000]:\n",
    "    data = [random.randint(1,65535) for _ in range(i)]\n",
    "\n",
    "    algos=[SelectionSort,InsertionSort]\n",
    "    for algo in algos:\n",
    "       data1 = data.copy()\n",
    "       print(i, algo(data1, log=False, output=False))\n",
    " "
   ]
  },
  {
   "cell_type": "markdown",
   "metadata": {},
   "source": [
    "## BubbleSort"
   ]
  },
  {
   "cell_type": "code",
   "execution_count": 7,
   "metadata": {},
   "outputs": [],
   "source": [
    "@timer\n",
    "def BubbleSort(arr): \n",
    "    n = len(arr) \n",
    "  \n",
    "    # Traverse through all array elements \n",
    "    for i in range(n-1): \n",
    "    # range(n) also work but outer loop will repeat one time more than needed. \n",
    "  \n",
    "        # Last i elements are already in place \n",
    "        for j in range(0, n-i-1): \n",
    "  \n",
    "            # traverse the array from 0 to n-i-1 \n",
    "            # Swap if the element found is greater \n",
    "            # than the next element \n",
    "            if arr[j] > arr[j+1] : \n",
    "                arr[j], arr[j+1] = arr[j+1], arr[j]"
   ]
  },
  {
   "cell_type": "markdown",
   "metadata": {},
   "source": [
    "## The Divide and Conquer Method\n",
    "```\n",
    "DC(P):\n",
    " if small(P):\n",
    "    return(P)\n",
    " else:\n",
    "    divide P into smaller instances\n",
    "    P1, P2, … Pk, K>=1\n",
    "    apply divide and conquer to each of these\n",
    "    sub-problems\n",
    "    return combine(DC(P1), DC(P2), … , DC(Pn))\n",
    "\n",
    "```"
   ]
  },
  {
   "cell_type": "markdown",
   "metadata": {},
   "source": [
    "## MergeSort"
   ]
  },
  {
   "cell_type": "code",
   "execution_count": 8,
   "metadata": {},
   "outputs": [],
   "source": [
    "\n",
    "# Python program for implementation of MergeSort \n",
    "  \n",
    "# Merges two subarrays of arr[]. \n",
    "# First subarray is arr[l..m] \n",
    "# Second subarray is arr[m+1..r] \n",
    "def merge(arr, l, m, r): \n",
    "    n1 = m - l + 1\n",
    "    n2 = r- m \n",
    "  \n",
    "    # create temp arrays \n",
    "    L = [0] * (n1) \n",
    "    R = [0] * (n2) \n",
    "  \n",
    "    # Copy data to temp arrays L[] and R[] \n",
    "    for i in range(0 , n1): \n",
    "        L[i] = arr[l + i] \n",
    "  \n",
    "    for j in range(0 , n2): \n",
    "        R[j] = arr[m + 1 + j] \n",
    "  \n",
    "    # Merge the temp arrays back into arr[l..r] \n",
    "    i = 0     # Initial index of first subarray \n",
    "    j = 0     # Initial index of second subarray \n",
    "    k = l     # Initial index of merged subarray \n",
    "  \n",
    "    while i < n1 and j < n2 : \n",
    "        if L[i] <= R[j]: \n",
    "            arr[k] = L[i] \n",
    "            i += 1\n",
    "        else: \n",
    "            arr[k] = R[j] \n",
    "            j += 1\n",
    "        k += 1\n",
    "  \n",
    "    # Copy the remaining elements of L[], if there \n",
    "    # are any \n",
    "    while i < n1: \n",
    "        arr[k] = L[i] \n",
    "        i += 1\n",
    "        k += 1\n",
    "  \n",
    "    # Copy the remaining elements of R[], if there \n",
    "    # are any \n",
    "    while j < n2: \n",
    "        arr[k] = R[j] \n",
    "        j += 1\n",
    "        k += 1\n",
    "  \n",
    "# l is for left index and r is right index of the \n",
    "# sub-array of arr to be sorted \n",
    "\n",
    "def mergeSort(arr, l = None, r = None):\n",
    "    if l == None:\n",
    "        l = 0\n",
    "        r = arr.__len__() - 1\n",
    "    if l < r:   \n",
    "        # Same as (l+r)//2, but avoids overflow for \n",
    "        # large l and h \n",
    "        m = (l+(r-1))//2\n",
    "  \n",
    "        # Sort first and second halves \n",
    "        mergeSort(arr, l, m) \n",
    "        mergeSort(arr, m+1, r) \n",
    "        merge(arr, l, m, r) \n",
    "  \n",
    "@timer\n",
    "def MergeSort(arr):\n",
    "    mergeSort(arr)\n"
   ]
  },
  {
   "cell_type": "markdown",
   "metadata": {},
   "source": [
    "## Quicksort"
   ]
  },
  {
   "cell_type": "code",
   "execution_count": 9,
   "metadata": {},
   "outputs": [],
   "source": [
    "# This function takes last element as pivot, places \n",
    "# the pivot element at its correct position in sorted \n",
    "# array, and places all smaller (smaller than pivot) \n",
    "# to left of pivot and all greater elements to right \n",
    "# of pivot \n",
    "def partition(arr,low,high): \n",
    "    i = ( low-1 )         # index of smaller element \n",
    "    pivot = arr[high]     # pivot \n",
    "  \n",
    "    for j in range(low , high): \n",
    "  \n",
    "        # If current element is smaller than or \n",
    "        # equal to pivot \n",
    "        if   arr[j] <= pivot: \n",
    "          \n",
    "            # increment index of smaller element \n",
    "            i = i+1 \n",
    "            arr[i],arr[j] = arr[j],arr[i] \n",
    "  \n",
    "    arr[i+1],arr[high] = arr[high],arr[i+1] \n",
    "    return ( i+1 ) \n",
    "  \n",
    "# The main function that implements QuickSort \n",
    "# arr[] --> Array to be sorted, \n",
    "# low  --> Starting index, \n",
    "# high  --> Ending index \n",
    "  \n",
    "# Function to do Quick sort \n",
    "def quickSort(arr,low = None,high =None): \n",
    "    if low == None:\n",
    "        low = 0\n",
    "        high = arr.__len__() - 1\n",
    "    if low < high: \n",
    "  \n",
    "        # pi is partitioning index, arr[p] is now \n",
    "        # at right place \n",
    "        pi = partition(arr,low,high) \n",
    "  \n",
    "        # Separately sort elements before \n",
    "        # partition and after partition \n",
    "        quickSort(arr, low, pi-1) \n",
    "        quickSort(arr, pi+1, high) \n",
    "  \n",
    "@timer\n",
    "def QuickSort(arr):\n",
    "    quickSort(arr)"
   ]
  },
  {
   "cell_type": "markdown",
   "metadata": {},
   "source": [
    "## Comparing Different Sorting Methods"
   ]
  },
  {
   "cell_type": "code",
   "execution_count": 10,
   "metadata": {},
   "outputs": [
    {
     "name": "stdout",
     "output_type": "stream",
     "text": [
      "100 ['SelectionSort', 0.000997304916381836]\n",
      "100 ['InsertionSort', 0.000997781753540039]\n",
      "100 ['BubbleSort', 0.0030062198638916016]\n",
      "100 ['MergeSort', 0.0019915103912353516]\n",
      "100 ['QuickSort', 0.0]\n",
      "1000 ['SelectionSort', 0.12248063087463379]\n",
      "1000 ['InsertionSort', 0.14198613166809082]\n",
      "1000 ['BubbleSort', 0.3012845516204834]\n",
      "1000 ['MergeSort', 0.016951560974121094]\n",
      "1000 ['QuickSort', 0.006980180740356445]\n",
      "10000 ['SelectionSort', 10.012442588806152]\n",
      "10000 ['InsertionSort', 11.180965900421143]\n",
      "10000 ['BubbleSort', 30.132813692092896]\n",
      "10000 ['MergeSort', 0.13962721824645996]\n",
      "10000 ['QuickSort', 0.11420464515686035]\n",
      "20000 ['SelectionSort', 42.76806664466858]\n",
      "20000 ['InsertionSort', 44.128398418426514]\n",
      "20000 ['BubbleSort', 97.54039454460144]\n",
      "20000 ['MergeSort', 0.5510363578796387]\n",
      "20000 ['QuickSort', 0.2742922306060791]\n"
     ]
    }
   ],
   "source": [
    "for i in [100,1000,10000,20000]:\n",
    "    data = [random.randint(1,65535) for _ in range(i)]\n",
    "\n",
    "    algos=[SelectionSort,InsertionSort,BubbleSort,MergeSort,QuickSort]\n",
    "    for algo in algos:\n",
    "       data1 = data.copy()\n",
    "       print(i, algo(data1, log=False, output=False))\n",
    " "
   ]
  },
  {
   "cell_type": "markdown",
   "metadata": {},
   "source": [
    "## Shallow Copy vs Deep Copy"
   ]
  },
  {
   "cell_type": "code",
   "execution_count": 16,
   "metadata": {},
   "outputs": [
    {
     "name": "stdout",
     "output_type": "stream",
     "text": [
      "odata [23813, 30373, 58528, 37603, 16307, 3229, 9750, 45633, 42706, 17840, 25678, 41219, 43254, 39637, 60082]\n",
      "data 90475272 [3229, 9750, 16307, 17840, 23813, 25678, 30373, 37603, 39637, 41219, 42706, 43254, 45633, 58528, 60082]\n",
      "data1 90475272 [3229, 9750, 16307, 17840, 23813, 25678, 30373, 37603, 39637, 41219, 42706, 43254, 45633, 58528, 60082]\n",
      "data2 90476104 [23813, 30373, 58528, 37603, 16307, 3229, 9750, 45633, 42706, 17840, 25678, 41219, 43254, 39637, 60082]\n"
     ]
    }
   ],
   "source": [
    "data = [random.randint(1,65535) for _ in range(15)]\n",
    "print(\"odata\",data)\n",
    "#shallow copy\n",
    "data1=data\n",
    "#deepcopy\n",
    "data2=data.copy()\n",
    "data.sort()\n",
    "print(\"data\", id(data), data)\n",
    "print(\"data1\",id(data1), data1)\n",
    "print(\"data2\",id(data2), data2)\n",
    " "
   ]
  },
  {
   "cell_type": "markdown",
   "metadata": {},
   "source": [
    "## Visualizing Sorting"
   ]
  },
  {
   "cell_type": "markdown",
   "metadata": {},
   "source": [
    "<a href=\"#/0/0\">\n",
    "<table border=\"1\">\n",
    "    <tr>\n",
    "        <td><img src=\"Videos/SelectionSort.gif\" style=\"width:400px\"  /></td>\n",
    "        <td><img src=\"Videos/InsertionSort.gif\" style=\"width:400px\"  /></td>\n",
    "        <td><img src=\"Videos/MergeSort.gif\" style=\"width:400px\"  /></td>\n",
    "        <td><img src=\"Videos/BubbleSort.gif\" style=\"width:400px\" /></td>\n",
    "    </tr>\n",
    "    <tr>\n",
    "        <td><img src=\"Videos/HeapSort.gif\" style=\"width:400px\"  /></td>\n",
    "        <td><img src=\"Videos/ShellSort.gif\" style=\"width:400px\" /></td>\n",
    "        <td><img src=\"Videos/CombSort.gif\" style=\"width:400px\"  /></td>\n",
    "        <td><img src=\"Videos/QuickSort.gif\" style=\"width:400px\" /></td>\n",
    "    </tr>    \n",
    "</table>\n",
    "</a>\n"
   ]
  },
  {
   "cell_type": "markdown",
   "metadata": {},
   "source": [
    "## Local and Global "
   ]
  },
  {
   "cell_type": "code",
   "execution_count": 18,
   "metadata": {},
   "outputs": [
    {
     "name": "stdout",
     "output_type": "stream",
     "text": [
      "Out foo, gcount 100\n",
      "In foo, gcount 100\n",
      "In foo, lcount 999\n",
      "Out foo, lcount 10\n"
     ]
    }
   ],
   "source": [
    "gcount=100\n",
    "lcount=10\n",
    "\n",
    "def foo():\n",
    "    print(\"In foo, gcount\",gcount)\n",
    "    #print(\"In foo, lcount\",lcount)\n",
    "    lcount=999\n",
    "    print(\"In foo, lcount\",lcount)\n",
    "    \n",
    "print(\"Out foo, gcount\",gcount)    \n",
    "foo()\n",
    "print(\"Out foo, lcount\",lcount)\n"
   ]
  },
  {
   "cell_type": "markdown",
   "metadata": {},
   "source": [
    "## Fibonacci Sequence\n",
    "\n",
    "<table>\n",
    "<tr>\n",
    "<td><img src=\"Videos/fib1.png\" alt=\"Drawing\" style=\"width: 400px;\"/></td>\n",
    "<td><img src=\"Videos/fib2.png\" alt=\"Drawing\" style=\"width: 400px;\"/></td>\n",
    "</tr>\n",
    "</table>\n",
    "\n",
    "\n",
    "\n",
    "## Fibonacci Number F(n)\n",
    "\n",
    "$ \\Large F(n) = F(n-1) + F(n-2) \\ \\forall n \\geq 2\\ \\  where \\Large F(0) = 0\\  and \\Large F(1)=1$\n",
    "\n"
   ]
  },
  {
   "cell_type": "markdown",
   "metadata": {},
   "source": [
    "## The First Attempt - Complexity?"
   ]
  },
  {
   "cell_type": "code",
   "execution_count": 19,
   "metadata": {},
   "outputs": [
    {
     "name": "stdout",
     "output_type": "stream",
     "text": [
      "Fib= 0 # function calls 1\n",
      "Fib= 1 # function calls 1\n",
      "Fib= 1 # function calls 3\n",
      "Fib= 2 # function calls 5\n",
      "Fib= 3 # function calls 9\n",
      "Fib= 5 # function calls 15\n",
      "Fib= 8 # function calls 25\n",
      "Fib= 13 # function calls 41\n",
      "Fib= 21 # function calls 67\n",
      "Fib= 34 # function calls 109\n",
      "Fib= 55 # function calls 177\n",
      "Fib( 10 )= 55 Time Taken= 0.0\n",
      "Fib( 30 )= 832040 Time Taken= 2.2330451011657715\n",
      "Fib( 31 )= 1346269 Time Taken= 3.839042901992798\n",
      "Fib( 32 )= 2178309 Time Taken= 9.361043691635132\n",
      "Fib( 33 )= 3524578 Time Taken= 15.981903791427612\n",
      "Fib( 34 )= 5702887 Time Taken= 17.281485557556152\n",
      "Fib( 35 )= 9227465 Time Taken= 26.030951499938965\n"
     ]
    }
   ],
   "source": [
    "counter=0\n",
    "\n",
    "def Fib(n):\n",
    "  global counter\n",
    "  counter+=1\n",
    "  if (n<2):\n",
    "    return n\n",
    "  return (Fib(n-1))+(Fib(n-2))\n",
    "\n",
    "for i in range(11):\n",
    "    counter=0\n",
    "    print(\"Fib=\",Fib(i),\"# function calls\",counter)\n",
    "\n",
    "for i in [10,30,31,32,33,34,35]:\n",
    "    s=time.time()\n",
    "    f=Fib(i)\n",
    "    e=time.time()\n",
    "    print(\"Fib(\",i,\")=\",f,\"Time Taken=\",e-s)    \n"
   ]
  },
  {
   "cell_type": "markdown",
   "metadata": {},
   "source": [
    "## Memoization \n",
    "\n",
    "In computing, memoization or memoisation is an optimization technique used primarily to speed up computer programs by storing the results of expensive function calls and returning the cached result when the same inputs occur again."
   ]
  },
  {
   "cell_type": "code",
   "execution_count": null,
   "metadata": {},
   "outputs": [],
   "source": [
    "def Fib1(n):\n",
    "    global f\n",
    "    if (f[n]<0):\n",
    "        temp=Fib1(n-1)+Fib1(n-2)\n",
    "        f[n]=temp\n",
    "    return f[n]\n",
    "\n",
    "#Try bigger number? i=5000?\n",
    "\n",
    "for i in [10,30,31,32,33,34,35,36,37,38,39,40,400,1000,2000,3000]:\n",
    "    f=[-1]*(i+1)\n",
    "    f[0],f[1]=0,1\n",
    "    s=time.time()\n",
    "    f[i]=Fib1(i)\n",
    "    e=time.time()\n",
    "    print(\"Fib1(\",i,\")=\",f[i],\"Time Taken=\",e-s)    \n"
   ]
  },
  {
   "cell_type": "markdown",
   "metadata": {},
   "source": [
    "## Undoing the Recursion"
   ]
  },
  {
   "cell_type": "code",
   "execution_count": null,
   "metadata": {},
   "outputs": [],
   "source": [
    "def Fib_loop(n):\n",
    "    res = 0\n",
    "    a1 = 1\n",
    "    a2 = 1\n",
    "    for i in range(n-2):\n",
    "        res = a1 + a2\n",
    "        a1 = a2\n",
    "        a2 = res\n",
    "    return res"
   ]
  },
  {
   "cell_type": "code",
   "execution_count": null,
   "metadata": {},
   "outputs": [],
   "source": [
    "for i in[1000,10000,100000,1000000]:\n",
    "  s=time.time()\n",
    "  x=Fib_loop(i)\n",
    "  e=time.time()\n",
    "  print(\"time =\",e-s)\n",
    "  print(x)"
   ]
  },
  {
   "cell_type": "markdown",
   "metadata": {},
   "source": [
    "## Beautiful Mathematics - Fibonacci and Golden Ratios\n",
    "\n",
    "\n",
    "\\begin{align}\\Large\n",
    "\\quad f_n = \\frac{1}{\\sqrt{5}} \\left ( \\left ( \\frac{1 + \\sqrt{5}}{2} \\right )^{n} - \\left (\\frac{1 - \\sqrt{5}}{2} \\right )^{n} \\right ) \\end{align}"
   ]
  },
  {
   "cell_type": "code",
   "execution_count": null,
   "metadata": {},
   "outputs": [],
   "source": [
    "import math\n",
    "def Fib_clos(n):\n",
    "    phi1 = (1+math.sqrt(5))/2\n",
    "    phi2 = (1-math.sqrt(5))/2\n",
    "    return (math.pow(phi1,n)-math.pow(phi2,n))/math.sqrt(5)"
   ]
  },
  {
   "cell_type": "code",
   "execution_count": null,
   "metadata": {},
   "outputs": [],
   "source": [
    "for i in[1,2,3,4,5,6,7,8,9,10,1000]:\n",
    "  s=time.time()\n",
    "  x=Fib_clos(i)\n",
    "  e=time.time()\n",
    "  print(\"Fib=\",i, \"is\",x,\" time =\",e-s)\n",
    "  #print(x)"
   ]
  },
  {
   "cell_type": "markdown",
   "metadata": {},
   "source": [
    "## Fast Exponentiation\n",
    "\n",
    "$$\n",
    "\\Large\n",
    "x^{n}=\\left\\{\\begin{array}{ll}\n",
    "x\\left(x^{2}\\right)^{\\frac{n-1}{2}}, & \\text { if } n \\text { is odd } \\\\\n",
    "\\left(x^{2}\\right)^{\\frac{n}{2}}, & \\text { if } n \\text { is even }\n",
    "\\end{array}\\right.\n",
    "$$"
   ]
  },
  {
   "cell_type": "markdown",
   "metadata": {},
   "source": [
    "## Fast Exponentiation applied to Matrices\n",
    "### To speedup Fibonacci number computation\n",
    "\n",
    "\n",
    "Thus,\n",
    "$$\n",
    "\\Large\n",
    " \\left[\n",
    " \\begin{matrix}\n",
    "   a_{n+1} & a_{n} \\\\\n",
    "   a_{n} & a_{n-1} \n",
    "  \\end{matrix}\n",
    "  \\right] \n",
    "  =\n",
    "   \\left[\n",
    " \\begin{matrix}\n",
    "   1 & 1 \\\\\n",
    "   1 & 0 \n",
    "  \\end{matrix}\n",
    "  \\right] \n",
    "  \\times\n",
    "   \\left[\n",
    " \\begin{matrix}\n",
    "   a_{n} & a_{n-1} \\\\\n",
    "   a_{n-1} & a_{n-2} \n",
    "  \\end{matrix}\n",
    "  \\right] \n",
    "$$\n",
    "\n",
    "Thus, \n",
    "$$\n",
    "\\Large\n",
    " \\left[\n",
    " \\begin{matrix}\n",
    "   a_{n+1} & a_{n} \\\\\n",
    "   a_{n} & a_{n-1} \n",
    "  \\end{matrix}\n",
    "  \\right]\n",
    "  =\n",
    "   \\left[\n",
    " \\begin{matrix}\n",
    "   1 & 1 \\\\\n",
    "   1 & 0 \n",
    "  \\end{matrix}\n",
    "  \\right] ^{n-1}\n",
    "  \\times\n",
    "   \\left[\n",
    " \\begin{matrix}\n",
    "   a_{2} & a_{1} \\\\\n",
    "   a_{1} & a_{0} \n",
    "  \\end{matrix}\n",
    "  \\right] \n",
    "$$\n"
   ]
  },
  {
   "cell_type": "code",
   "execution_count": null,
   "metadata": {},
   "outputs": [],
   "source": [
    "mod = 100000\n",
    "class matrix:\n",
    "    \n",
    "    def __init__(self,data):\n",
    "        self.a = [[0,0],[0,0]]\n",
    "        for i in range(2):\n",
    "            for j in range(2):\n",
    "                self.a[i][j] = data[i][j]\n",
    "    \n",
    "    def __mul__(self,rhs):\n",
    "        res = matrix([[0,0],[0,0]])\n",
    "        for i in range(2):\n",
    "            for j in range(2):\n",
    "                for k in range(2):\n",
    "                    res.a[i][j] += (self.a[i][k]*rhs.a[k][j])\n",
    "        return  res\n",
    "    def __pow__(self,n):\n",
    "        res = matrix([[1,0],[0,1]])\n",
    "        base = matrix(self.a)\n",
    "        while(n):\n",
    "            if(n&1):\n",
    "                res *= base;\n",
    "            base *= base\n",
    "            n>>=1\n",
    "        return res\n",
    "    def __str__(self):\n",
    "        return str(self.a)\n",
    "    \n",
    "def Fib_exp(n):\n",
    "    b = matrix([[1,1],[1,0]])\n",
    "    res = b**n\n",
    "    return res.a[0][1]"
   ]
  },
  {
   "cell_type": "code",
   "execution_count": null,
   "metadata": {},
   "outputs": [],
   "source": [
    "for i in[1000,10000,100000,1000000]:\n",
    "  s=time.time()\n",
    "  x=Fib_exp(i)\n",
    "  e=time.time()\n",
    "  print(\"time =\",e-s)\n",
    "  #print(x)"
   ]
  },
  {
   "cell_type": "markdown",
   "metadata": {},
   "source": [
    "## Comparison amongst different methods\n",
    "\n",
    "<table>\n",
    "<tr>\n",
    "<td><img src=\"Videos/fibcom1.png\" alt=\"Drawing\" style=\"width: 900px;\"/></td>\n",
    "</tr>\n",
    "</table>\n",
    "\n",
    "<table>\n",
    "<tr>\n",
    "<td><img src=\"Videos/fibcom2.png\" alt=\"Drawing\" style=\"width: 900px;\"/></td>\n",
    "</tr>\n",
    "</table>\n"
   ]
  },
  {
   "cell_type": "markdown",
   "metadata": {},
   "source": [
    "# Randomize Algorithms\n",
    "\n",
    "## Algorithm with two loops - O(n^2)\n",
    "\n"
   ]
  },
  {
   "cell_type": "code",
   "execution_count": 22,
   "metadata": {},
   "outputs": [],
   "source": [
    "import timeit\n",
    "\n",
    "def simple_repeat(a):\n",
    "    n = len(a)\n",
    "    for i in range(n):\n",
    "        for j in range(i+1,n):\n",
    "            if(a[i]==a[j]):\n",
    "                return a[i]\n",
    "    return -1"
   ]
  },
  {
   "cell_type": "markdown",
   "metadata": {},
   "source": [
    "## Algorithm Sort and Check - O(nlogn)"
   ]
  },
  {
   "cell_type": "code",
   "execution_count": 20,
   "metadata": {},
   "outputs": [],
   "source": [
    "def sortandcheck(a):\n",
    "    a.sort()\n",
    "    n = len(a)\n",
    "    for i in range(n-1):\n",
    "        if (a[i]==a[i+1]):         \n",
    "            return a[i]\n",
    "    return -1"
   ]
  },
  {
   "cell_type": "markdown",
   "metadata": {},
   "source": [
    "## Algorithm Randomize and Repeat "
   ]
  },
  {
   "cell_type": "code",
   "execution_count": 21,
   "metadata": {},
   "outputs": [],
   "source": [
    "def rand_repeat(a):\n",
    "    n = len(a)\n",
    "    while True:\n",
    "        i = random.randint(0,n-1)\n",
    "        j = random.randint(0,n-1)\n",
    "        if a[i]==a[j] and i!=j:\n",
    "            return a[i]"
   ]
  },
  {
   "cell_type": "markdown",
   "metadata": {},
   "source": [
    "## Performance Comparison"
   ]
  },
  {
   "cell_type": "code",
   "execution_count": 23,
   "metadata": {},
   "outputs": [
    {
     "name": "stdout",
     "output_type": "stream",
     "text": [
      "simple algo 83.036783 s\n",
      "sortandcheck algo 0.016676 s\n",
      "randomized algo 0.002695 s\n"
     ]
    }
   ],
   "source": [
    "import timeit\n",
    "\n",
    "n = 2000*2\n",
    "arr = [i for i in range(n//2)] + [n]*(n//2)\n",
    "\n",
    "print(\"simple algo %f s\"%(timeit.timeit(\"simple_repeat(arr)\",\"from __main__ import arr,simple_repeat\",number=50)))\n",
    "print(\"sortandcheck algo %f s\"%(timeit.timeit(\"sortandcheck(arr)\",\"from __main__ import arr,sortandcheck\",number=50)))\n",
    "print(\"randomized algo %f s\"%(timeit.timeit(\"rand_repeat(arr)\",\"from __main__ import arr,rand_repeat\",number=50)))"
   ]
  },
  {
   "cell_type": "code",
   "execution_count": null,
   "metadata": {},
   "outputs": [],
   "source": []
  }
 ],
 "metadata": {
  "kernelspec": {
   "display_name": "Python 3",
   "language": "python",
   "name": "python3"
  },
  "language_info": {
   "codemirror_mode": {
    "name": "ipython",
    "version": 3
   },
   "file_extension": ".py",
   "mimetype": "text/x-python",
   "name": "python",
   "nbconvert_exporter": "python",
   "pygments_lexer": "ipython3",
   "version": "3.7.4"
  }
 },
 "nbformat": 4,
 "nbformat_minor": 4
}
